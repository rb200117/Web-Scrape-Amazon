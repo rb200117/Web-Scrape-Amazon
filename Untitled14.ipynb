{
 "cells": [
  {
   "cell_type": "code",
   "execution_count": 22,
   "id": "662033c9",
   "metadata": {},
   "outputs": [],
   "source": [
    "import pandas as pd\n",
    "import csv\n",
    "from urllib.error import HTTPError\n",
    "from selenium import webdriver\n",
    "import requests"
   ]
  },
  {
   "cell_type": "code",
   "execution_count": 15,
   "id": "db9daa82",
   "metadata": {},
   "outputs": [],
   "source": [
    "df = pd.read_csv(\"/Users/rakshitbatra/Downloads/Amazon Scraping - Sheet1.csv\")"
   ]
  },
  {
   "cell_type": "code",
   "execution_count": 16,
   "id": "6908d778",
   "metadata": {},
   "outputs": [
    {
     "data": {
      "text/html": [
       "<div>\n",
       "<style scoped>\n",
       "    .dataframe tbody tr th:only-of-type {\n",
       "        vertical-align: middle;\n",
       "    }\n",
       "\n",
       "    .dataframe tbody tr th {\n",
       "        vertical-align: top;\n",
       "    }\n",
       "\n",
       "    .dataframe thead th {\n",
       "        text-align: right;\n",
       "    }\n",
       "</style>\n",
       "<table border=\"1\" class=\"dataframe\">\n",
       "  <thead>\n",
       "    <tr style=\"text-align: right;\">\n",
       "      <th></th>\n",
       "      <th>Unnamed: 0</th>\n",
       "      <th>id</th>\n",
       "      <th>Asin</th>\n",
       "      <th>country</th>\n",
       "    </tr>\n",
       "  </thead>\n",
       "  <tbody>\n",
       "    <tr>\n",
       "      <th>0</th>\n",
       "      <td>0</td>\n",
       "      <td>1</td>\n",
       "      <td>1015</td>\n",
       "      <td>de</td>\n",
       "    </tr>\n",
       "    <tr>\n",
       "      <th>1</th>\n",
       "      <td>1</td>\n",
       "      <td>2424796</td>\n",
       "      <td>1015</td>\n",
       "      <td>fr</td>\n",
       "    </tr>\n",
       "    <tr>\n",
       "      <th>2</th>\n",
       "      <td>2</td>\n",
       "      <td>2</td>\n",
       "      <td>000004458X</td>\n",
       "      <td>de</td>\n",
       "    </tr>\n",
       "    <tr>\n",
       "      <th>3</th>\n",
       "      <td>3</td>\n",
       "      <td>2424797</td>\n",
       "      <td>000004458X</td>\n",
       "      <td>fr</td>\n",
       "    </tr>\n",
       "    <tr>\n",
       "      <th>4</th>\n",
       "      <td>4</td>\n",
       "      <td>3</td>\n",
       "      <td>1002198</td>\n",
       "      <td>de</td>\n",
       "    </tr>\n",
       "  </tbody>\n",
       "</table>\n",
       "</div>"
      ],
      "text/plain": [
       "   Unnamed: 0       id        Asin country\n",
       "0           0        1        1015      de\n",
       "1           1  2424796        1015      fr\n",
       "2           2        2  000004458X      de\n",
       "3           3  2424797  000004458X      fr\n",
       "4           4        3     1002198      de"
      ]
     },
     "execution_count": 16,
     "metadata": {},
     "output_type": "execute_result"
    }
   ],
   "source": [
    "df.head()"
   ]
  },
  {
   "cell_type": "code",
   "execution_count": 17,
   "id": "7f215d77",
   "metadata": {},
   "outputs": [
    {
     "data": {
      "text/plain": [
       "(1000, 4)"
      ]
     },
     "execution_count": 17,
     "metadata": {},
     "output_type": "execute_result"
    }
   ],
   "source": [
    "df.shape"
   ]
  },
  {
   "cell_type": "code",
   "execution_count": 18,
   "id": "a86df9cb",
   "metadata": {},
   "outputs": [
    {
     "data": {
      "text/plain": [
       "<bound method IndexOpsMixin.nunique of 0      de\n",
       "1      fr\n",
       "2      de\n",
       "3      fr\n",
       "4      de\n",
       "       ..\n",
       "995    fr\n",
       "996    de\n",
       "997    fr\n",
       "998    de\n",
       "999    fr\n",
       "Name: country, Length: 1000, dtype: object>"
      ]
     },
     "execution_count": 18,
     "metadata": {},
     "output_type": "execute_result"
    }
   ],
   "source": [
    "df['country'].nunique"
   ]
  },
  {
   "cell_type": "code",
   "execution_count": 19,
   "id": "484124cf",
   "metadata": {},
   "outputs": [],
   "source": [
    "driver = webdriver.Chrome()"
   ]
  },
  {
   "cell_type": "code",
   "execution_count": 30,
   "id": "bb3a6ac6",
   "metadata": {},
   "outputs": [],
   "source": [
    "urls = []\n",
    "url_columns = ['id', 'url']\n",
    "for i in range(len(df)):\n",
    "    country = df['country'][i]\n",
    "    asin = df['Asin'][i]\n",
    "    url = \"https://www.amazon.\"+country+\"/dp/\"+asin\n",
    "    urls.append({\"id\":i+1,\"url\": url})"
   ]
  },
  {
   "cell_type": "code",
   "execution_count": 79,
   "id": "917c76d8",
   "metadata": {},
   "outputs": [
    {
     "ename": "SyntaxError",
     "evalue": "invalid syntax (1757260860.py, line 1)",
     "output_type": "error",
     "traceback": [
      "\u001b[0;36m  Input \u001b[0;32mIn [79]\u001b[0;36m\u001b[0m\n\u001b[0;31m    https://www.amazon.{country}/dp/{asin}\u001b[0m\n\u001b[0m          ^\u001b[0m\n\u001b[0;31mSyntaxError\u001b[0m\u001b[0;31m:\u001b[0m invalid syntax\n"
     ]
    }
   ],
   "source": [
    "https://www.amazon.{country}/dp/{asin}"
   ]
  },
  {
   "cell_type": "code",
   "execution_count": 27,
   "id": "238ea1f2",
   "metadata": {},
   "outputs": [
    {
     "name": "stdout",
     "output_type": "stream",
     "text": [
      "[]\n"
     ]
    }
   ],
   "source": [
    "print(urls)"
   ]
  },
  {
   "cell_type": "code",
   "execution_count": 82,
   "id": "74be310d",
   "metadata": {},
   "outputs": [],
   "source": [
    "with open('urls.csv', 'w') as csvfile:\n",
    "    writer = csv.DictWriter(csvfile, fieldnames=url_columns)\n",
    "    writer.writeheader()\n",
    "    writer.writerows(urls)"
   ]
  },
  {
   "cell_type": "code",
   "execution_count": 70,
   "id": "f7ccb03e",
   "metadata": {},
   "outputs": [
    {
     "name": "stdout",
     "output_type": "stream",
     "text": [
      "https://www.amazon.de/dp/1015\n"
     ]
    }
   ],
   "source": [
    "print(urls[0])"
   ]
  },
  {
   "cell_type": "code",
   "execution_count": 49,
   "id": "000d1a58",
   "metadata": {},
   "outputs": [],
   "source": [
    "import requests\n",
    "from bs4 import BeautifulSoup\n",
    "\n",
    "\n",
    "page = requests.get(URL)\n",
    "\n",
    "soup = BeautifulSoup(page.content, \"html.parser\")"
   ]
  },
  {
   "cell_type": "code",
   "execution_count": 51,
   "id": "fd01960d",
   "metadata": {},
   "outputs": [
    {
     "name": "stdout",
     "output_type": "stream",
     "text": [
      "<!DOCTYPE html>\n",
      "\n",
      "<!--[if lt IE 7]> <html lang=\"en-us\" class=\"a-no-js a-lt-ie9 a-lt-ie8 a-lt-ie7\"> <![endif]-->\n",
      "<!--[if IE 7]>    <html lang=\"en-us\" class=\"a-no-js a-lt-ie9 a-lt-ie8\"> <![endif]-->\n",
      "<!--[if IE 8]>    <html lang=\"en-us\" class=\"a-no-js a-lt-ie9\"> <![endif]-->\n",
      "<!--[if gt IE 8]><!-->\n",
      "<html class=\"a-no-js\" lang=\"en-us\"><!--<![endif]--><head>\n",
      "<meta content=\"text/html; charset=utf-8\" http-equiv=\"content-type\"/>\n",
      "<meta charset=\"utf-8\"/>\n",
      "<meta content=\"IE=edge,chrome=1\" http-equiv=\"X-UA-Compatible\"/>\n",
      "<title dir=\"ltr\">Amazon.de</title>\n",
      "<meta content=\"width=device-width\" name=\"viewport\"/>\n",
      "<link href=\"https://images-na.ssl-images-amazon.com/images/G/01/AUIClients/AmazonUI-3c913031596ca78a3768f4e934b1cc02ce238101.secure.min._V1_.css\" rel=\"stylesheet\"/>\n",
      "<script>\n",
      "\n",
      "if (true === true) {\n",
      "    var ue_t0 = (+ new Date()),\n",
      "        ue_csm = window,\n",
      "        ue = { t0: ue_t0, d: function() { return (+new Date() - ue_t0); } },\n",
      "        ue_furl = \"fls-eu.amazon.de\",\n",
      "        ue_mid = \"A1PA6795UKMFR9\",\n",
      "        ue_sid = (document.cookie.match(/session-id=([0-9-]+)/) || [])[1],\n",
      "        ue_sn = \"opfcaptcha.amazon.de\",\n",
      "        ue_id = 'DAV1S6CNWZ3PV75BP1T5';\n",
      "}\n",
      "</script>\n",
      "</head>\n",
      "<body>\n",
      "<!--\n",
      "        To discuss automated access to Amazon data please contact api-services-support@amazon.com.\n",
      "        For information about migrating to our APIs refer to our Marketplace APIs at https://developer.amazonservices.de/ref=rm_c_sv, or our Product Advertising API at https://partnernet.amazon.de/gp/advertising/api/detail/main.html/ref=rm_c_ac for advertising use cases.\n",
      "-->\n",
      "<!--\n",
      "Correios.DoNotSend\n",
      "-->\n",
      "<div class=\"a-container a-padding-double-large\" style=\"min-width:350px;padding:44px 0 !important\">\n",
      "<div class=\"a-row a-spacing-double-large\" style=\"width: 350px; margin: 0 auto\">\n",
      "<div class=\"a-row a-spacing-medium a-text-center\"><i class=\"a-icon a-logo\"></i></div>\n",
      "<div class=\"a-box a-alert a-alert-info a-spacing-base\">\n",
      "<div class=\"a-box-inner\">\n",
      "<i class=\"a-icon a-icon-alert\"></i>\n",
      "<h4>Geben Sie die Zeichen unten ein</h4>\n",
      "<p class=\"a-last\">Wir bitten um Ihr Verständnis und wollen uns sicher sein dass Sie kein Bot sind. Für beste Resultate, verwenden Sie bitte einen Browser der Cookies akzeptiert.</p>\n",
      "</div>\n",
      "</div>\n",
      "<div class=\"a-section\">\n",
      "<div class=\"a-box a-color-offset-background\">\n",
      "<div class=\"a-box-inner a-padding-extra-large\">\n",
      "<form action=\"/errors/validateCaptcha\" method=\"get\" name=\"\">\n",
      "<input name=\"amzn\" type=\"hidden\" value=\"qeIS3hftSuM316F5YWkRpA==\"/><input name=\"amzn-r\" type=\"hidden\" value=\"/dp/1015\"/>\n",
      "<div class=\"a-row a-spacing-large\">\n",
      "<div class=\"a-box\">\n",
      "<div class=\"a-box-inner\">\n",
      "<h4>Geben Sie die angezeigten Zeichen im Bild ein:</h4>\n",
      "<!-- Für automatischen Zugang zu Preis- und Angebotsänderungen, wenden Sie sich bitte an unser MWS Subscription API:\n",
      "                                             https://developer.amazonservices.de/gp/mws/api.html?ie=UTF8&section=subscriptions&group=subscriptions&version=latest\n",
      "                                        -->\n",
      "<div class=\"a-row a-text-center\">\n",
      "<img src=\"https://images-na.ssl-images-amazon.com/captcha/derqnxxq/Captcha_qaojstqade.jpg\"/>\n",
      "</div>\n",
      "<div class=\"a-row a-spacing-base\">\n",
      "<div class=\"a-row\">\n",
      "<div class=\"a-column a-span6\">\n",
      "<label for=\"captchacharacters\">Zeichen eingeben</label>\n",
      "</div>\n",
      "<div class=\"a-column a-span6 a-span-last a-text-right\">\n",
      "<a onclick=\"window.location.reload()\">Anderes Bild probieren</a>\n",
      "</div>\n",
      "</div>\n",
      "<input autocapitalize=\"off\" autocomplete=\"off\" autocorrect=\"off\" class=\"a-span12\" id=\"captchacharacters\" name=\"field-keywords\" spellcheck=\"false\" type=\"text\"/>\n",
      "</div>\n",
      "</div>\n",
      "</div>\n",
      "</div>\n",
      "<div class=\"a-section a-spacing-extra-large\">\n",
      "<div class=\"a-row\">\n",
      "<span class=\"a-button a-button-primary a-span12\">\n",
      "<span class=\"a-button-inner\">\n",
      "<button class=\"a-button-text\" type=\"submit\">Weiter shoppen</button>\n",
      "</span>\n",
      "</span>\n",
      "</div>\n",
      "</div>\n",
      "</form>\n",
      "</div>\n",
      "</div>\n",
      "</div>\n",
      "</div>\n",
      "<div class=\"a-divider a-divider-section\"><div class=\"a-divider-inner\"></div></div>\n",
      "<div class=\"a-text-center a-spacing-small a-size-mini\">\n",
      "<a href=\"https://www.amazon.de/gp/help/customer/display.html/ref=footer_cou/275-2496043-9483305?ie=UTF8&amp;nodeId=505048\">Unsere AGB</a>\n",
      "<span class=\"a-letter-space\"></span>\n",
      "<span class=\"a-letter-space\"></span>\n",
      "<span class=\"a-letter-space\"></span>\n",
      "<span class=\"a-letter-space\"></span>\n",
      "<a href=\"https://www.amazon.de/gp/help/customer/display.html/ref=footer_privacy?ie=UTF8&amp;nodeId=3312401\">Datenschutzerklärung</a>\n",
      "</div>\n",
      "<div class=\"a-text-center a-size-mini a-color-secondary\">\n",
      "          © 1996-2015, Amazon.com, Inc. oder Tochtergesellschaften\n",
      "          <script>\n",
      "           if (true === true) {\n",
      "             document.write('<img src=\"https://fls-eu.amaz'+'on.de/'+'1/oc-csi/1/OP/requestId=DAV1S6CNWZ3PV75BP1T5&js=1\" />');\n",
      "           };\n",
      "          </script>\n",
      "<noscript>\n",
      "<img src=\"https://fls-eu.amazon.de/1/oc-csi/1/OP/requestId=DAV1S6CNWZ3PV75BP1T5&amp;js=0\">\n",
      "</img></noscript>\n",
      "</div>\n",
      "</div>\n",
      "<script>\n",
      "    if (true === true) {\n",
      "        var head = document.getElementsByTagName('head')[0],\n",
      "            prefix = \"https://images-eu.ssl-images-amazon.com/images/G/01/csminstrumentation/\",\n",
      "            elem = document.createElement(\"script\");\n",
      "        elem.src = prefix + \"csm-captcha-instrumentation.min.js\";\n",
      "        head.appendChild(elem);\n",
      "\n",
      "        elem = document.createElement(\"script\");\n",
      "        elem.src = prefix + \"rd-script-6d68177fa6061598e9509dc4b5bdd08d.js\";\n",
      "        head.appendChild(elem);\n",
      "    }\n",
      "    </script>\n",
      "</body></html>\n",
      "\n"
     ]
    }
   ],
   "source": [
    "print(soup)"
   ]
  },
  {
   "cell_type": "code",
   "execution_count": null,
   "id": "8dd87064",
   "metadata": {},
   "outputs": [],
   "source": [
    "Mozilla/5.0 (Macintosh; Intel Mac OS X 10_15_7) AppleWebKit/537.36 (KHTML, like Gecko) Chrome/101.0.4951.54 Safari/537.36"
   ]
  },
  {
   "cell_type": "code",
   "execution_count": 52,
   "id": "45afb051",
   "metadata": {},
   "outputs": [],
   "source": [
    "from bs4 import BeautifulSoup\n",
    "import requests\n",
    "URL = \"https://www.amazon.de/dp/1015\"\n",
    " \n",
    "HEADERS = ({'User-Agent':\n",
    "           'Mozilla/5.0 (Macintosh; Intel Mac OS X 10_15_7) AppleWebKit/537.36 (KHTML, like Gecko) Chrome/101.0.4951.54 Safari/537.36',\n",
    "                           'Accept-Language': 'en-US, en;q=0.5'})\n",
    " \n",
    "webpage = requests.get(URL, headers=HEADERS)\n",
    "soup = BeautifulSoup(webpage.content, \"lxml\")"
   ]
  },
  {
   "cell_type": "code",
   "execution_count": 53,
   "id": "b633f1ca",
   "metadata": {},
   "outputs": [
    {
     "name": "stdout",
     "output_type": "stream",
     "text": [
      "<!DOCTYPE html>\n",
      "<html lang=\"de\">\n",
      "<head>\n",
      "<meta charset=\"utf-8\"/>\n",
      "<meta content=\"ie=edge\" http-equiv=\"x-ua-compatible\"/>\n",
      "<meta content=\"width=device-width, initial-scale=1, shrink-to-fit=no\" name=\"viewport\"/>\n",
      "<title>Amazon.de Die Website wurde nicht gefunden</title>\n",
      "<style>\n",
      "\t\t#b,#e,#f{height:35px}#b,#f{position:absolute}body,html{padding:0;margin:0}body{color:#6C7778;font-family:Helvetica;font-weight:lighter}img{border:0;max-width:90%}a{text-decoration-line:none;color:#0099D9}input,input::-webkit-input-placeholder{font-size:16px}#a{background:#232f3e;padding:11px 11px 11px 192px}#b{left:22px;top:12px;width:auto}#c{width:85%;position:relative;padding:0 40px 0 0}#d{margin-top:15px}#e,#f{border:0}#e{width:100%;margin:0;padding:0 10px;border-radius:4px 0 0 4px}#f{cursor:pointer;background:#febd69;border-radius:0 4px 4px 0;-webkit-appearance:none;top:0;right:0;padding:0 12px}#g{text-align:center;margin:30px 0}#h{font-size:5em}#i{font-size:3em;line-height:1em}#j,#n{font-size:1.5em}#h,#i,#j{margin:10px 0}#n,#o{width:60%;margin:auto;text-align:left}#n{margin-top:30px}@media(max-width:500px){#a{padding:55px 10px 10px}#b{left:6px}#h{font-size:2em}#i{font-size:1.5em}#j,#n{font-size:1em}#n,#o{width:90%}}\n",
      "\t</style>\n",
      "</head>\n",
      "<body>\n",
      "<a href=\"/ref=cs_404_logo/\">\n",
      "<img alt=\"Amazon.de\" id=\"b\" src=\"https://m.media-amazon.com/images/G/03/error/amazon-de-logo-WDSHJ.png\"/>\n",
      "</a>\n",
      "<form accept-charset=\"utf-8\" action=\"/s/ref=404_search\" id=\"a\" method=\"GET\" role=\"search\">\n",
      "<div id=\"c\">\n",
      "<input id=\"e\" name=\"field-keywords\" placeholder=\"Suchen\"/>\n",
      "<button id=\"f\" type=\"submit\">\n",
      "<img src=\"https://m.media-amazon.com/images/G/02/error/nav-sprite-search-icon-FDTKS.png\"/>\n",
      "</button>\n",
      "</div>\n",
      "</form>\n",
      "<div id=\"g\">\n",
      "<div id=\"o\">\n",
      "<div id=\"h\">ENTSCHULDIGUNG</div>\n",
      "<div id=\"i\">die gewünschte Seite konnte nicht gefunden werden</div>\n",
      "<div id=\"j\">Bitte nutzen Sie die Suchfunktion oder gehen Sie direkt zu <a href=\"/\">Amazon.de</a>.</div>\n",
      "</div>\n",
      "<a href=\"/dogsofamazon\" id=\"l\" target=\"_blank\">\n",
      "<img alt=\"Die Hunde bei Amazon\" id=\"d\" src=\"https://m.media-amazon.com/images/G/02/error/1.-TTD-c.jpg\"/>\n",
      "<div id=\"n\">So hundefreundlich ist Amazon</div>\n",
      "</a>\n",
      "</div>\n",
      "<script>\n",
      "\t\tdocument.getElementById(\"d\").src=\"https://m.media-amazon.com/images/G/02/error/\"+(Math.floor(Math.random()*43)+1)+\".-TTD-c.jpg\";\n",
      "\t</script>\n",
      "</body>\n",
      "</html>\n",
      "\n"
     ]
    }
   ],
   "source": [
    "print(soup)"
   ]
  },
  {
   "cell_type": "code",
   "execution_count": 63,
   "id": "f2255d79",
   "metadata": {},
   "outputs": [],
   "source": [
    "# from bs4 import BeautifulSoup\n",
    "# import requests\n",
    "# URL = \"https://www.amazon.de/dp/B09S68WM37/\"\n",
    " \n",
    "# HEADERS = ({'User-Agent':\n",
    "#            'Mozilla/5.0 (Macintosh; Intel Mac OS X 10_15_7) AppleWebKit/537.36 (KHTML, like Gecko) Chrome/101.0.4951.54 Safari/537.36',\n",
    "#                            'Accept-Language': 'en-US, en;q=0.5'})\n",
    " \n",
    "# webpage = requests.get(URL, headers=HEADERS)\n",
    "# soup = BeautifulSoup(webpage.content, \"lxml\")"
   ]
  },
  {
   "cell_type": "code",
   "execution_count": 64,
   "id": "dcdf4683",
   "metadata": {},
   "outputs": [
    {
     "name": "stdout",
     "output_type": "stream",
     "text": [
      "<title>DENKSPIELE FÜR HUNDE: Der begeisternde Hunderatgeber mit den 100 besten Hundespiele um die Intelligenz und Agilität Ihres Hundes zu fördern - Mit Trainingsplan für eine optimale Hundeerziehung : Schreiner, Thorsten: Amazon.de: Books</title>\n"
     ]
    }
   ],
   "source": [
    "print(soup.title)"
   ]
  },
  {
   "cell_type": "code",
   "execution_count": 65,
   "id": "6f565399",
   "metadata": {},
   "outputs": [
    {
     "data": {
      "text/plain": [
       "[<img alt=\"\" height=\"1\" onload=\"window.ue_sbl &amp;&amp; window.ue_sbl();\" src=\"//fls-eu.amazon.de/1/batch/1/OP/A1PA6795UKMFR9:258-8517916-3074002:MP23Y1GFW4MVD52HPA3B$uedata=s:%2Frd%2Fuedata%3Fstaticb%26id%3DMP23Y1GFW4MVD52HPA3B:0\" style=\"display:none;visibility:hidden;\" width=\"1\"/>,\n",
       " <img alt=\"\" src=\"https://images-eu.ssl-images-amazon.com/images/G/03/gno/sprites/nav-sprite-global-1x-hm-dsk-reorg._CB405937709_.png\" style=\"display:none\"/>,\n",
       " <img alt=\"\" src=\"https://images-na.ssl-images-amazon.com/images/G/03/kindle/dp/KU._CB463267950_.png\" width=\"120\"/>,\n",
       " <img alt=\"\" height=\"15px\" src=\"https://images-na.ssl-images-amazon.com/images/G/03/x-locale/checkout/truespc/secured-ssl._CB485936984_.png\"/>,\n",
       " <img alt=\"Kindle app logo image\" src=\"https://images-na.ssl-images-amazon.com/images/G/03/kindle/app/kindle-app-logo._CB666561482_.png\" width=\"92\"/>,\n",
       " <img alt=\"QR code to download the Kindle App\" src=\"https://images-na.ssl-images-amazon.com/images/G/03/kindle/app/QR-store-link-kindle-app._CB626292656_.png\" width=\"92\"/>,\n",
       " <img id=\"sitbLogoImg\" src=\"https://images-na.ssl-images-amazon.com/images/G/03/digital/sitb/sticker/sitb-sticker-v3-xsmall._CB485946477_.png\"/>,\n",
       " <img alt=\"\" class=\"a-dynamic-image image-stretch-vertical frontImage\" data-a-dynamic-image='{\"https://images-na.ssl-images-amazon.com/images/I/41zUZy4g2xL._SX331_BO1,204,203,200_.jpg\":[333,499],\"https://images-na.ssl-images-amazon.com/images/I/41zUZy4g2xL._SY344_BO1,204,203,200_.jpg\":[231,346]}' id=\"imgBlkFront\" onload=\"this.onload='';setCSMReq('af');if(typeof addlongPoleTag === 'function'){ addlongPoleTag('af','desktop-image-atf-marker');};setCSMReq('cf');\" src=\"https://images-eu.ssl-images-amazon.com/images/I/41zUZy4g2xL._SY264_BO1,204,203,200_QL40_ML2_.jpg\" style=\"max-width:231px;max-height:346px;\"/>,\n",
       " <img src=\"https://images-na.ssl-images-amazon.com/images/I/41zUZy4g2xL._AC_SX60_CR,0,0,60,60_.jpg\"/>,\n",
       " <img src=\"https://images-na.ssl-images-amazon.com/images/I/51ViD6rdpAL._AC_SX60_CR,0,0,60,60_.jpg\"/>,\n",
       " <img alt=\"\" height=\"75\" src=\"https://images-na.ssl-images-amazon.com/images/G/03/kindle/content/apub/pbooks/1017-PBOOK_75x75_sm-hqp._CB485941256_.jpg\" width=\"75\"/>,\n",
       " <img alt=\"DENKSPIELE FÜR HUNDE: Der begeisternde Hunderatgeber mit den 100 besten Hundespiele um die Intelligenz und Agilität Ihres Hun\" class=\"a-dynamic-image p13n-sc-dynamic-image p13n-product-image\" data-a-dynamic-image='{\"https://images-eu.ssl-images-amazon.com/images/I/61KJWEk26AL._AC_UL116_SR116,116_.jpg\":[116,116],\"https://images-eu.ssl-images-amazon.com/images/I/61KJWEk26AL._AC_UL232_SR232,232_.jpg\":[232,232],\"https://images-eu.ssl-images-amazon.com/images/I/61KJWEk26AL._AC_UL348_SR348,348_.jpg\":[348,348]}' height=\"116px\" src=\"https://images-eu.ssl-images-amazon.com/images/I/61KJWEk26AL._AC_UL116_SR116,116_.jpg\" style=\"max-width:116px;max-height:116px\"/>,\n",
       " <img alt=\"Souveräne Impulskontrolle bei Hunden: Wie Sie Ihren Hund besser verstehen und zu mehr Ruhe und Gelassenheit verhelfen\" class=\"a-dynamic-image p13n-sc-dynamic-image p13n-product-image\" data-a-dynamic-image='{\"https://images-eu.ssl-images-amazon.com/images/I/71OoTXQY2JS._AC_UL116_SR116,116_.jpg\":[116,116],\"https://images-eu.ssl-images-amazon.com/images/I/71OoTXQY2JS._AC_UL232_SR232,232_.jpg\":[232,232],\"https://images-eu.ssl-images-amazon.com/images/I/71OoTXQY2JS._AC_UL348_SR348,348_.jpg\":[348,348]}' height=\"116px\" src=\"https://images-eu.ssl-images-amazon.com/images/I/71OoTXQY2JS._AC_UL116_SR116,116_.jpg\" style=\"max-width:116px;max-height:116px\"/>,\n",
       " <img alt=\"Beschäftigung Hund: Das große Spielebuch für Hunde mit den besten Denkspielen, Intelligenzspielen und Spaßspielen für Ihren V\" class=\"a-dynamic-image p13n-sc-dynamic-image p13n-product-image\" data-a-dynamic-image='{\"https://images-eu.ssl-images-amazon.com/images/I/61o9712f6NL._AC_UL116_SR116,116_.jpg\":[116,116],\"https://images-eu.ssl-images-amazon.com/images/I/61o9712f6NL._AC_UL232_SR232,232_.jpg\":[232,232],\"https://images-eu.ssl-images-amazon.com/images/I/61o9712f6NL._AC_UL348_SR348,348_.jpg\":[348,348]}' height=\"116px\" src=\"https://images-eu.ssl-images-amazon.com/images/I/61o9712f6NL._AC_UL116_SR116,116_.jpg\" style=\"max-width:116px;max-height:116px\"/>,\n",
       " <img alt=\"Intelligenzspiele und Denksport für Hunde: 100 spaßige und fordernde Übungen für deinen Hund. Inkl. Clickertraining und Tipps für die optimale Hundeerziehung\" class=\"a-dynamic-image\" data-a-dynamic-image='{\"https://m.media-amazon.com/images/I/41clmd5Ss-L._BG0,0,0,0_FMpng_AC_SY160_SX160_.jpg\":[160,160],\"https://m.media-amazon.com/images/I/41clmd5Ss-L._BG0,0,0,0_FMpng_AC_SY320_SX320_.jpg\":[320,320],\"https://m.media-amazon.com/images/I/41clmd5Ss-L._BG0,0,0,0_FMpng_AC_SY480_SX480_.jpg\":[480,480]}' src=\"https://m.media-amazon.com/images/I/41clmd5Ss-L._BG0,0,0,0_FMpng_AC_SY160_SX160_.jpg\" style=\"max-width:160px;max-height:160px;\"/>,\n",
       " <img alt=\"Hundespiele mit Wau-Effekt - 150 abwechslungsreiche Beschäftigungen für drinnen und draußen\" class=\"a-dynamic-image\" data-a-dynamic-image='{\"https://m.media-amazon.com/images/I/418CkzUVQyL._BG0,0,0,0_FMpng_AC_SY160_SX160_.jpg\":[160,160],\"https://m.media-amazon.com/images/I/418CkzUVQyL._BG0,0,0,0_FMpng_AC_SY480_SX480_.jpg\":[480,480],\"https://m.media-amazon.com/images/I/418CkzUVQyL._BG0,0,0,0_FMpng_AC_SY320_SX320_.jpg\":[320,320]}' src=\"https://m.media-amazon.com/images/I/418CkzUVQyL._BG0,0,0,0_FMpng_AC_SY160_SX160_.jpg\" style=\"max-width:160px;max-height:160px;\"/>,\n",
       " <img alt=\"Hunde beschäftigen leicht gemacht: Begeisternde Hundespiele für einen ausgeglichenes und glückliches Mensch-Hund-Team\" class=\"a-dynamic-image\" data-a-dynamic-image='{\"https://m.media-amazon.com/images/I/41GwLOadeDL._BG0,0,0,0_FMpng_AC_SY160_SX160_.jpg\":[160,160],\"https://m.media-amazon.com/images/I/41GwLOadeDL._BG0,0,0,0_FMpng_AC_SY480_SX480_.jpg\":[480,480],\"https://m.media-amazon.com/images/I/41GwLOadeDL._BG0,0,0,0_FMpng_AC_SY320_SX320_.jpg\":[320,320]}' src=\"https://m.media-amazon.com/images/I/41GwLOadeDL._BG0,0,0,0_FMpng_AC_SY160_SX160_.jpg\" style=\"max-width:160px;max-height:160px;\"/>,\n",
       " <img alt=\"Beschäftigung Hund: Das große Spielebuch für Hunde mit den besten Denkspielen, Intelligenzspielen und Spaßspielen für Ihren Vierbeiner\" class=\"a-dynamic-image\" data-a-dynamic-image='{\"https://m.media-amazon.com/images/I/41NZ0kUGjcL._BG0,0,0,0_FMpng_AC_SY320_SX320_.jpg\":[320,320],\"https://m.media-amazon.com/images/I/41NZ0kUGjcL._BG0,0,0,0_FMpng_AC_SY480_SX480_.jpg\":[480,480],\"https://m.media-amazon.com/images/I/41NZ0kUGjcL._BG0,0,0,0_FMpng_AC_SY160_SX160_.jpg\":[160,160]}' src=\"https://m.media-amazon.com/images/I/41NZ0kUGjcL._BG0,0,0,0_FMpng_AC_SY160_SX160_.jpg\" style=\"max-width:160px;max-height:160px;\"/>,\n",
       " <img alt=\"Denkspiele für Hunde: Abwechslungsreiche Denksportspiele und Agilitytraining für eine optimale Auslastung, inklusive Tipps in der Erziehung sowie deren Körpersprache besser verstehen\" class=\"a-dynamic-image\" data-a-dynamic-image='{\"https://m.media-amazon.com/images/I/41ecmU1U0FL._BG0,0,0,0_FMpng_AC_SY160_SX160_.jpg\":[160,160],\"https://m.media-amazon.com/images/I/41ecmU1U0FL._BG0,0,0,0_FMpng_AC_SY320_SX320_.jpg\":[320,320],\"https://m.media-amazon.com/images/I/41ecmU1U0FL._BG0,0,0,0_FMpng_AC_SY480_SX480_.jpg\":[480,480]}' src=\"https://m.media-amazon.com/images/I/41ecmU1U0FL._BG0,0,0,0_FMpng_AC_SY160_SX160_.jpg\" style=\"max-width:160px;max-height:160px;\"/>,\n",
       " <img alt=\"Hunde abwechslungsreich beschäftigen: Weil Stöckchen holen nicht reicht - Einfache und spannende Beschäftigungsmethoden für Einsteiger\" class=\"a-dynamic-image\" data-a-dynamic-image='{\"https://m.media-amazon.com/images/I/41KTLxlIEGL._BG0,0,0,0_FMpng_AC_SY320_SX320_.jpg\":[320,320],\"https://m.media-amazon.com/images/I/41KTLxlIEGL._BG0,0,0,0_FMpng_AC_SY480_SX480_.jpg\":[480,480],\"https://m.media-amazon.com/images/I/41KTLxlIEGL._BG0,0,0,0_FMpng_AC_SY160_SX160_.jpg\":[160,160]}' src=\"https://m.media-amazon.com/images/I/41KTLxlIEGL._BG0,0,0,0_FMpng_AC_SY160_SX160_.jpg\" style=\"max-width:160px;max-height:160px;\"/>,\n",
       " <img alt=\"DENKSPORT FÜR HUNDE: Die 101 besten Hundespiele für mehr Agility Intelligenz &amp; Spaß (Hunderatgeber)\" class=\"a-dynamic-image\" data-a-dynamic-image='{\"https://m.media-amazon.com/images/I/41HJOs+MfSL._BG0,0,0,0_FMpng_AC_SY160_SX160_.jpg\":[160,160],\"https://m.media-amazon.com/images/I/41HJOs+MfSL._BG0,0,0,0_FMpng_AC_SY320_SX320_.jpg\":[320,320],\"https://m.media-amazon.com/images/I/41HJOs+MfSL._BG0,0,0,0_FMpng_AC_SY480_SX480_.jpg\":[480,480]}' src=\"https://m.media-amazon.com/images/I/41HJOs+MfSL._BG0,0,0,0_FMpng_AC_SY160_SX160_.jpg\" style=\"max-width:160px;max-height:160px;\"/>,\n",
       " <img alt=\"Hey Mensch, spiel mit mir! Spiele für Welpen, als starkes Team gemeinsam groß werden! Mit 84 ausgewählten Spielen für drinnen und draußen. Bonus: 15 Leckerli Rezepte für die gesunde Welpenbelohnung.\" class=\"a-dynamic-image\" data-a-dynamic-image='{\"https://m.media-amazon.com/images/I/41lLIt-oR6L._BG0,0,0,0_FMpng_AC_SY320_SX320_.jpg\":[320,320],\"https://m.media-amazon.com/images/I/41lLIt-oR6L._BG0,0,0,0_FMpng_AC_SY480_SX480_.jpg\":[480,480],\"https://m.media-amazon.com/images/I/41lLIt-oR6L._BG0,0,0,0_FMpng_AC_SY160_SX160_.jpg\":[160,160]}' src=\"https://m.media-amazon.com/images/I/41lLIt-oR6L._BG0,0,0,0_FMpng_AC_SY160_SX160_.jpg\" style=\"max-width:160px;max-height:160px;\"/>,\n",
       " <img alt=\"Clevere Denksportspiele für Hunde: Lustige Hundespiele die begeistern- Hundebeschäftigung leicht gemacht. Inkl. Agility Training für eine ideale Hundeerziehung\" class=\"a-dynamic-image\" data-a-dynamic-image='{\"https://m.media-amazon.com/images/I/415OJ0R5Q1L._BG0,0,0,0_FMpng_AC_SY320_SX320_.jpg\":[320,320],\"https://m.media-amazon.com/images/I/415OJ0R5Q1L._BG0,0,0,0_FMpng_AC_SY160_SX160_.jpg\":[160,160],\"https://m.media-amazon.com/images/I/415OJ0R5Q1L._BG0,0,0,0_FMpng_AC_SY480_SX480_.jpg\":[480,480]}' src=\"https://m.media-amazon.com/images/I/415OJ0R5Q1L._BG0,0,0,0_FMpng_AC_SY160_SX160_.jpg\" style=\"max-width:160px;max-height:160px;\"/>,\n",
       " <img alt=\"Denkspiele für Hunde: So funktionieren die 115 besten Denksport Übungen für mehr Agility, Intelligenz &amp; Spass inkl Clickertraining für eine einfache aber effiziente Hundeerziehung\" class=\"a-dynamic-image\" data-a-dynamic-image='{\"https://m.media-amazon.com/images/I/41m4dWp9FjL._BG0,0,0,0_FMpng_AC_SY160_SX160_.jpg\":[160,160],\"https://m.media-amazon.com/images/I/41m4dWp9FjL._BG0,0,0,0_FMpng_AC_SY480_SX480_.jpg\":[480,480],\"https://m.media-amazon.com/images/I/41m4dWp9FjL._BG0,0,0,0_FMpng_AC_SY320_SX320_.jpg\":[320,320]}' src=\"https://m.media-amazon.com/images/I/41m4dWp9FjL._BG0,0,0,0_FMpng_AC_SY160_SX160_.jpg\" style=\"max-width:160px;max-height:160px;\"/>,\n",
       " <img alt=\"Beschäftigung Hund: Das große Spielebuch für Hunde mit den besten Denkspielen, Intelligenzspielen und Spaßspielen für Ihren Vierbeiner\" class=\"a-dynamic-image\" data-a-dynamic-image='{\"https://m.media-amazon.com/images/I/41NZ0kUGjcL._BG0,0,0,0_FMpng_AC_SY320_SX320_.jpg\":[320,320],\"https://m.media-amazon.com/images/I/41NZ0kUGjcL._BG0,0,0,0_FMpng_AC_SY480_SX480_.jpg\":[480,480],\"https://m.media-amazon.com/images/I/41NZ0kUGjcL._BG0,0,0,0_FMpng_AC_SY160_SX160_.jpg\":[160,160]}' src=\"https://m.media-amazon.com/images/I/41NZ0kUGjcL._BG0,0,0,0_FMpng_AC_SY160_SX160_.jpg\" style=\"max-width:160px;max-height:160px;\"/>,\n",
       " <img alt=\"Hundespiele mit Wau-Effekt - 150 abwechslungsreiche Beschäftigungen für drinnen und draußen\" class=\"a-dynamic-image\" data-a-dynamic-image='{\"https://m.media-amazon.com/images/I/418CkzUVQyL._BG0,0,0,0_FMpng_AC_SY160_SX160_.jpg\":[160,160],\"https://m.media-amazon.com/images/I/418CkzUVQyL._BG0,0,0,0_FMpng_AC_SY480_SX480_.jpg\":[480,480],\"https://m.media-amazon.com/images/I/418CkzUVQyL._BG0,0,0,0_FMpng_AC_SY320_SX320_.jpg\":[320,320]}' src=\"https://m.media-amazon.com/images/I/418CkzUVQyL._BG0,0,0,0_FMpng_AC_SY160_SX160_.jpg\" style=\"max-width:160px;max-height:160px;\"/>,\n",
       " <img alt=\"Intelligenzspiele und Denksport für Hunde: 100 spaßige und fordernde Übungen für deinen Hund. Inkl. Clickertraining und Tipps für die optimale Hundeerziehung\" class=\"a-dynamic-image\" data-a-dynamic-image='{\"https://m.media-amazon.com/images/I/41clmd5Ss-L._BG0,0,0,0_FMpng_AC_SY160_SX160_.jpg\":[160,160],\"https://m.media-amazon.com/images/I/41clmd5Ss-L._BG0,0,0,0_FMpng_AC_SY320_SX320_.jpg\":[320,320],\"https://m.media-amazon.com/images/I/41clmd5Ss-L._BG0,0,0,0_FMpng_AC_SY480_SX480_.jpg\":[480,480]}' src=\"https://m.media-amazon.com/images/I/41clmd5Ss-L._BG0,0,0,0_FMpng_AC_SY160_SX160_.jpg\" style=\"max-width:160px;max-height:160px;\"/>,\n",
       " <img alt=\"Hunde beschäftigen leicht gemacht: Begeisternde Hundespiele für einen ausgeglichenes und glückliches Mensch-Hund-Team\" class=\"a-dynamic-image\" data-a-dynamic-image='{\"https://m.media-amazon.com/images/I/41GwLOadeDL._BG0,0,0,0_FMpng_AC_SY160_SX160_.jpg\":[160,160],\"https://m.media-amazon.com/images/I/41GwLOadeDL._BG0,0,0,0_FMpng_AC_SY480_SX480_.jpg\":[480,480],\"https://m.media-amazon.com/images/I/41GwLOadeDL._BG0,0,0,0_FMpng_AC_SY320_SX320_.jpg\":[320,320]}' src=\"https://m.media-amazon.com/images/I/41GwLOadeDL._BG0,0,0,0_FMpng_AC_SY160_SX160_.jpg\" style=\"max-width:160px;max-height:160px;\"/>,\n",
       " <img alt=\"DENKSPORT FÜR HUNDE: Die 101 besten Hundespiele für mehr Agility Intelligenz &amp; Spaß (Hunderatgeber)\" class=\"a-dynamic-image\" data-a-dynamic-image='{\"https://m.media-amazon.com/images/I/41HJOs+MfSL._BG0,0,0,0_FMpng_AC_SY160_SX160_.jpg\":[160,160],\"https://m.media-amazon.com/images/I/41HJOs+MfSL._BG0,0,0,0_FMpng_AC_SY320_SX320_.jpg\":[320,320],\"https://m.media-amazon.com/images/I/41HJOs+MfSL._BG0,0,0,0_FMpng_AC_SY480_SX480_.jpg\":[480,480]}' src=\"https://m.media-amazon.com/images/I/41HJOs+MfSL._BG0,0,0,0_FMpng_AC_SY160_SX160_.jpg\" style=\"max-width:160px;max-height:160px;\"/>,\n",
       " <img alt=\"Hunde abwechslungsreich beschäftigen: Weil Stöckchen holen nicht reicht - Einfache und spannende Beschäftigungsmethoden für Einsteiger\" class=\"a-dynamic-image\" data-a-dynamic-image='{\"https://m.media-amazon.com/images/I/41KTLxlIEGL._BG0,0,0,0_FMpng_AC_SY320_SX320_.jpg\":[320,320],\"https://m.media-amazon.com/images/I/41KTLxlIEGL._BG0,0,0,0_FMpng_AC_SY480_SX480_.jpg\":[480,480],\"https://m.media-amazon.com/images/I/41KTLxlIEGL._BG0,0,0,0_FMpng_AC_SY160_SX160_.jpg\":[160,160]}' src=\"https://m.media-amazon.com/images/I/41KTLxlIEGL._BG0,0,0,0_FMpng_AC_SY160_SX160_.jpg\" style=\"max-width:160px;max-height:160px;\"/>,\n",
       " <img alt=\"Denkspiele für Hunde: Abwechslungsreiche Denksportspiele und Agilitytraining für eine optimale Auslastung, inklusive Tipps in der Erziehung sowie deren Körpersprache besser verstehen\" class=\"a-dynamic-image\" data-a-dynamic-image='{\"https://m.media-amazon.com/images/I/41ecmU1U0FL._BG0,0,0,0_FMpng_AC_SY160_SX160_.jpg\":[160,160],\"https://m.media-amazon.com/images/I/41ecmU1U0FL._BG0,0,0,0_FMpng_AC_SY320_SX320_.jpg\":[320,320],\"https://m.media-amazon.com/images/I/41ecmU1U0FL._BG0,0,0,0_FMpng_AC_SY480_SX480_.jpg\":[480,480]}' src=\"https://m.media-amazon.com/images/I/41ecmU1U0FL._BG0,0,0,0_FMpng_AC_SY160_SX160_.jpg\" style=\"max-width:160px;max-height:160px;\"/>,\n",
       " <img alt=\"Denkspiele für Hunde: So funktionieren die 115 besten Denksport Übungen für mehr Agility, Intelligenz &amp; Spass inkl Clickertraining für eine einfache aber effiziente Hundeerziehung\" class=\"a-dynamic-image\" data-a-dynamic-image='{\"https://m.media-amazon.com/images/I/41m4dWp9FjL._BG0,0,0,0_FMpng_AC_SY160_SX160_.jpg\":[160,160],\"https://m.media-amazon.com/images/I/41m4dWp9FjL._BG0,0,0,0_FMpng_AC_SY480_SX480_.jpg\":[480,480],\"https://m.media-amazon.com/images/I/41m4dWp9FjL._BG0,0,0,0_FMpng_AC_SY320_SX320_.jpg\":[320,320]}' src=\"https://m.media-amazon.com/images/I/41m4dWp9FjL._BG0,0,0,0_FMpng_AC_SY160_SX160_.jpg\" style=\"max-width:160px;max-height:160px;\"/>,\n",
       " <img alt=\"Denkspiele für Hunde: Intelligenzspiele und Beschäftigung für ihren Hund. Dieses Buch beinhaltet Hundespiele für Impulskontrolle und Denksport\" class=\"a-dynamic-image\" data-a-dynamic-image='{\"https://m.media-amazon.com/images/I/41EEGDHx4gL._BG0,0,0,0_FMpng_AC_SY480_SX480_.jpg\":[480,480],\"https://m.media-amazon.com/images/I/41EEGDHx4gL._BG0,0,0,0_FMpng_AC_SY320_SX320_.jpg\":[320,320],\"https://m.media-amazon.com/images/I/41EEGDHx4gL._BG0,0,0,0_FMpng_AC_SY160_SX160_.jpg\":[160,160]}' src=\"https://m.media-amazon.com/images/I/41EEGDHx4gL._BG0,0,0,0_FMpng_AC_SY160_SX160_.jpg\" style=\"max-width:160px;max-height:160px;\"/>,\n",
       " <img alt=\"Clevere Denksportspiele für Hunde: Lustige Hundespiele die begeistern- Hundebeschäftigung leicht gemacht. Inkl. Agility Training für eine ideale Hundeerziehung\" class=\"a-dynamic-image\" data-a-dynamic-image='{\"https://m.media-amazon.com/images/I/415OJ0R5Q1L._BG0,0,0,0_FMpng_AC_SY320_SX320_.jpg\":[320,320],\"https://m.media-amazon.com/images/I/415OJ0R5Q1L._BG0,0,0,0_FMpng_AC_SY160_SX160_.jpg\":[160,160],\"https://m.media-amazon.com/images/I/415OJ0R5Q1L._BG0,0,0,0_FMpng_AC_SY480_SX480_.jpg\":[480,480]}' src=\"https://m.media-amazon.com/images/I/415OJ0R5Q1L._BG0,0,0,0_FMpng_AC_SY160_SX160_.jpg\" style=\"max-width:160px;max-height:160px;\"/>,\n",
       " <img class=\"a-lazy-loaded\" data-src=\"https://images-eu.ssl-images-amazon.com/images/S/amazon-avatars-global/1794a94c-ed75-47e8-8402-24634ef4ab42._CR62,0,375,375_SX48_.jpg\" src=\"https://images-na.ssl-images-amazon.com/images/G/01/x-locale/common/grey-pixel.gif\"/>,\n",
       " <img src=\"https://images-eu.ssl-images-amazon.com/images/S/amazon-avatars-global/1794a94c-ed75-47e8-8402-24634ef4ab42._CR62,0,375,375_SX48_.jpg\"/>,\n",
       " <img class=\"a-lazy-loaded\" data-src=\"https://images-eu.ssl-images-amazon.com/images/S/amazon-avatars-global/c1dd5c27-c788-4ab0-b190-77e3ecce9acc._CR0,45.0,243,243_SX48_.jpg\" src=\"https://images-na.ssl-images-amazon.com/images/G/01/x-locale/common/grey-pixel.gif\"/>,\n",
       " <img src=\"https://images-eu.ssl-images-amazon.com/images/S/amazon-avatars-global/c1dd5c27-c788-4ab0-b190-77e3ecce9acc._CR0,45.0,243,243_SX48_.jpg\"/>,\n",
       " <img class=\"a-lazy-loaded\" data-src=\"https://images-eu.ssl-images-amazon.com/images/S/amazon-avatars-global/26076abd-15bf-4c5b-9bc4-e10def930a03._CR0,0,375,375_SX48_.jpg\" src=\"https://images-na.ssl-images-amazon.com/images/G/01/x-locale/common/grey-pixel.gif\"/>,\n",
       " <img src=\"https://images-eu.ssl-images-amazon.com/images/S/amazon-avatars-global/26076abd-15bf-4c5b-9bc4-e10def930a03._CR0,0,375,375_SX48_.jpg\"/>,\n",
       " <img class=\"a-lazy-loaded\" data-src=\"https://images-eu.ssl-images-amazon.com/images/S/amazon-avatars-global/default._CR0,0,1024,1024_SX48_.png\" src=\"https://images-na.ssl-images-amazon.com/images/G/01/x-locale/common/grey-pixel.gif\"/>,\n",
       " <img src=\"https://images-eu.ssl-images-amazon.com/images/S/amazon-avatars-global/default._CR0,0,1024,1024_SX48_.png\"/>,\n",
       " <img class=\"a-lazy-loaded\" data-src=\"https://images-eu.ssl-images-amazon.com/images/S/amazon-avatars-global/default._CR0,0,1024,1024_SX48_.png\" src=\"https://images-na.ssl-images-amazon.com/images/G/01/x-locale/common/grey-pixel.gif\"/>,\n",
       " <img src=\"https://images-eu.ssl-images-amazon.com/images/S/amazon-avatars-global/default._CR0,0,1024,1024_SX48_.png\"/>,\n",
       " <img src=\"https://images-eu.ssl-images-amazon.com/images/G/03/personalization/ybh/loading-4x-gray._CB485916907_.gif\"/>,\n",
       " <img alt=\"\" height=\"1\" src=\"//fls-eu.amazon.de/1/batch/1/OP/A1PA6795UKMFR9:258-8517916-3074002:MP23Y1GFW4MVD52HPA3B$uedata=s:%2Frd%2Fuedata%3Fnoscript%26id%3DMP23Y1GFW4MVD52HPA3B:0\" style=\"display:none;visibility:hidden;\" width=\"1\"/>]"
      ]
     },
     "execution_count": 65,
     "metadata": {},
     "output_type": "execute_result"
    }
   ],
   "source": [
    "soup.find_all('img')"
   ]
  },
  {
   "cell_type": "code",
   "execution_count": 66,
   "id": "0db944e2",
   "metadata": {},
   "outputs": [
    {
     "name": "stdout",
     "output_type": "stream",
     "text": [
      "https://images-eu.ssl-images-amazon.com/images/I/41zUZy4g2xL._SY264_BO1,204,203,200_QL40_ML2_.jpg\n"
     ]
    }
   ],
   "source": [
    "for link in soup.find_all('img',{'class':'a-dynamic-image image-stretch-vertical frontImage'}):\n",
    "    print(link.get('src'))"
   ]
  },
  {
   "cell_type": "code",
   "execution_count": 85,
   "id": "febd3d03",
   "metadata": {},
   "outputs": [],
   "source": [
    "url = soup.find('img',{'class':'a-dynamic-image image-stretch-vertical frontImage'}).get('src')"
   ]
  },
  {
   "cell_type": "code",
   "execution_count": 86,
   "id": "fa465add",
   "metadata": {},
   "outputs": [
    {
     "name": "stdout",
     "output_type": "stream",
     "text": [
      "https://images-eu.ssl-images-amazon.com/images/I/41zUZy4g2xL._SY264_BO1,204,203,200_QL40_ML2_.jpg\n"
     ]
    }
   ],
   "source": [
    "print(url)"
   ]
  },
  {
   "cell_type": "code",
   "execution_count": 1,
   "id": "4d8a8c87",
   "metadata": {},
   "outputs": [],
   "source": [
    "from selenium import webdriver\n",
    "from selenium.webdriver.common.keys import Keys\n",
    "import pandas as pd"
   ]
  },
  {
   "cell_type": "code",
   "execution_count": 4,
   "id": "c3312eed",
   "metadata": {},
   "outputs": [
    {
     "name": "stderr",
     "output_type": "stream",
     "text": [
      "/var/folders/47/96j1v8d53cn7jcl2vm5mk6hr0000gn/T/ipykernel_60987/2353588549.py:1: DeprecationWarning: executable_path has been deprecated, please pass in a Service object\n",
      "  driver = webdriver.Chrome('/Users/rakshitbatra/Downloads/chromedriver')\n"
     ]
    }
   ],
   "source": [
    "driver = webdriver.Chrome('/Users/rakshitbatra/Downloads/chromedriver')"
   ]
  },
  {
   "cell_type": "code",
   "execution_count": 5,
   "id": "400f83eb",
   "metadata": {},
   "outputs": [],
   "source": [
    "driver.get('https://www.amazon.de/dp/B09S68WM37/')"
   ]
  },
  {
   "cell_type": "code",
   "execution_count": 7,
   "id": "6288b7f0",
   "metadata": {},
   "outputs": [
    {
     "name": "stderr",
     "output_type": "stream",
     "text": [
      "/var/folders/47/96j1v8d53cn7jcl2vm5mk6hr0000gn/T/ipykernel_60987/2785470762.py:1: DeprecationWarning: find_element_by_* commands are deprecated. Please use find_element() instead\n",
      "  title = driver.find_element_by_tag_name('title')\n"
     ]
    }
   ],
   "source": [
    "title = driver.find_element_by_tag_name('title')"
   ]
  },
  {
   "cell_type": "code",
   "execution_count": 8,
   "id": "5e1b11e6",
   "metadata": {},
   "outputs": [
    {
     "name": "stdout",
     "output_type": "stream",
     "text": [
      "<selenium.webdriver.remote.webelement.WebElement (session=\"1c7f2a4311302a75b62525ba0f97f6e4\", element=\"8b42085b-0f1e-43f5-9ac0-428f3d0a0948\")>\n"
     ]
    }
   ],
   "source": [
    "print(title)"
   ]
  },
  {
   "cell_type": "code",
   "execution_count": null,
   "id": "31943b3f",
   "metadata": {},
   "outputs": [],
   "source": []
  }
 ],
 "metadata": {
  "kernelspec": {
   "display_name": "Python 3 (ipykernel)",
   "language": "python",
   "name": "python3"
  },
  "language_info": {
   "codemirror_mode": {
    "name": "ipython",
    "version": 3
   },
   "file_extension": ".py",
   "mimetype": "text/x-python",
   "name": "python",
   "nbconvert_exporter": "python",
   "pygments_lexer": "ipython3",
   "version": "3.8.8"
  }
 },
 "nbformat": 4,
 "nbformat_minor": 5
}
